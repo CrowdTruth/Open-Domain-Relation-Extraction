{
 "cells": [
  {
   "cell_type": "code",
   "execution_count": 1,
   "metadata": {
    "collapsed": false
   },
   "outputs": [],
   "source": [
    "# !pip install CrowdTruth==2.0a1\n",
    "\n",
    "import crowdtruth\n",
    "from crowdtruth.configuration import DefaultConfig\n",
    "import logging\n",
    "\n",
    "relations = [\"per:title\", \"per:founded_org\", \"per:place_of_birth\", \"per:children\", \"per:cause_of_death\",\n",
    "             \"per:top_member_employee_of_org\", \"per:employee_or_member_of\", \"per:spouse\",\"org:alternate_names\",\n",
    "             \"org:subsidiaries\", \"per:place_of_death\", \"per:schools_attended\", \"org:place_of_headquarters\",\n",
    "             \"per:charges\", \"per:origin\", \"per:places_of_residence\", \"none\"]\n",
    "\n",
    "def removeExtraRelations(annotation_separator, outputColumns, judgments):\n",
    "    for col in outputColumns:\n",
    "        judgments[col] = judgments[col].apply(lambda x: str(x).lower())\n",
    "\n",
    "        # remove age relation from dataset\n",
    "        judgments[col] = judgments[col].apply(lambda x: str(x).replace('per:age' + annotation_separator,''))\n",
    "        judgments[col] = judgments[col].apply(lambda x: str(x).replace(annotation_separator + 'per:age', ''))\n",
    "        judgments[col] = judgments[col].apply(lambda x: str(x).replace('per:age', 'none'))\n",
    "\n",
    "        # merge personal and organizational alternate_names relation\n",
    "        judgments[col] = judgments[col].apply(lambda x: str(x).replace('per:alternate_names', 'org:alternate_names'))\n",
    "        judgments[col] = judgments[col].apply(lambda x: annotation_separator.join(\n",
    "            sorted(str(x).split(annotation_separator))))\n",
    "        judgments[col] = judgments[col].apply(lambda x: str(x).replace(\n",
    "            'org:alternate_names' + annotation_separator + 'org:alternate_names', 'org:alternate_names'))\n",
    "    return judgments"
   ]
  },
  {
   "cell_type": "markdown",
   "metadata": {},
   "source": [
    "# Pre-process CF data"
   ]
  },
  {
   "cell_type": "code",
   "execution_count": 2,
   "metadata": {
    "collapsed": false
   },
   "outputs": [],
   "source": [
    "class ODRelExCF(DefaultConfig):\n",
    "    inputColumns = [\"sent_id\", \"relation\", \"term1\", \"b1\", \"e1\", \"term2\", \"b2\", \"e2\", \"sentence\"]\n",
    "    outputColumns = [\"rellist\"]\n",
    "    \n",
    "    open_ended_task = False\n",
    "    annotation_vector = relations\n",
    "    annotation_separator = \"\\n\"\n",
    "    \n",
    "    def processJudgments(self, judgments):\n",
    "        return removeExtraRelations(self.annotation_separator, self.outputColumns, judgments)\n",
    "\n",
    "pre_processed_results_cf, config_cf = crowdtruth.load(\n",
    "    directory = \"data/input/CF\",\n",
    "    config = ODRelExCF()\n",
    ")"
   ]
  },
  {
   "cell_type": "markdown",
   "metadata": {},
   "source": [
    "# Pre-process AMT data"
   ]
  },
  {
   "cell_type": "code",
   "execution_count": 3,
   "metadata": {
    "collapsed": false
   },
   "outputs": [],
   "source": [
    "class ODRelExAMT(DefaultConfig):\n",
    "    inputColumns = [\"Input.sent_id\", \"Input.relation\", \"Input.term1\", \"Input.b1\", \"Input.e1\",\n",
    "                    \"Input.term2\", \"Input.b2\", \"Input.e2\", \"Input.sentence\"]\n",
    "    outputColumns = [\"Answer.Q1\"]\n",
    "    \n",
    "    open_ended_task = False\n",
    "    annotation_vector = relations\n",
    "    annotation_separator = \"|\"\n",
    "    \n",
    "    def processJudgments(self, judgments):\n",
    "        return removeExtraRelations(self.annotation_separator, self.outputColumns, judgments)\n",
    "\n",
    "pre_processed_results_amt, config_amt = crowdtruth.load(\n",
    "    directory = \"data/input/AMT\",\n",
    "    config = ODRelExAMT()\n",
    ")"
   ]
  },
  {
   "cell_type": "markdown",
   "metadata": {},
   "source": [
    "# Merging the CF and AMT data"
   ]
  },
  {
   "cell_type": "code",
   "execution_count": 4,
   "metadata": {
    "collapsed": false
   },
   "outputs": [],
   "source": [
    "import pandas as pd\n",
    "\n",
    "pre_processed_results_amt[\"units\"] = pre_processed_results_amt[\"units\"].rename(index=str, columns={\n",
    "    \"output.Q1\": \"output.rellist\",\n",
    "    \"output.Q1.annotations\": \"output.rellist.annotations\",\n",
    "    \"output.Q1.unique_annotations\": \"output.rellist.unique_annotations\",\n",
    "    \"output.Q1.cos_clarity\" : \"output.rellist.cos_clarity\"\n",
    "})\n",
    "\n",
    "pre_processed_results_amt[\"judgments\"] = pre_processed_results_amt[\"judgments\"].rename(index=str, columns={\n",
    "    \"output.Q1\": \"output.rellist\",\n",
    "    \"output.Q1.agreement\": \"output.rellist.agreement\",\n",
    "    \"output.Q1.count\": \"output.rellist.count\"\n",
    "})\n",
    "\n",
    "pre_processed_results_amt[\"annotations\"] = pre_processed_results_amt[\"annotations\"].rename(index=str, columns={\n",
    "    \"output.Q1\": \"output.rellist\"\n",
    "})\n",
    "\n",
    "pre_processed_results_amt[\"workers\"] = pre_processed_results_amt[\"workers\"].rename(index=str, columns={\n",
    "    \"output.Q1.count\": \"output.rellist.count\"\n",
    "})\n",
    "\n",
    "pre_processed_results_cf[\"units\"].index = pre_processed_results_cf[\"units\"].index.map(str)\n",
    "pre_processed_results_cf[\"judgments\"].index = pre_processed_results_cf[\"judgments\"].index.map(str)\n",
    "pre_processed_results_cf[\"workers\"].index = pre_processed_results_cf[\"workers\"].index.map(str)\n",
    "pre_processed_results_cf[\"judgments\"][\"worker\"] = pre_processed_results_cf[\"judgments\"][\"worker\"].astype(str)\n",
    "pre_processed_results_cf[\"judgments\"][\"unit\"] = pre_processed_results_cf[\"judgments\"][\"unit\"].astype(str)\n",
    "\n",
    "units = pd.concat([pre_processed_results_amt[\"units\"], pre_processed_results_cf[\"units\"]])\n",
    "workers = pd.concat([pre_processed_results_amt[\"workers\"], pre_processed_results_cf[\"workers\"]])\n",
    "annotations = pre_processed_results_amt[\"annotations\"] + pre_processed_results_cf[\"annotations\"]\n",
    "# jobs = pd.concat([pre_processed_results_amt[\"jobs\"], pre_processed_results_cf[\"jobs\"]])\n",
    "judgments = pd.concat([pre_processed_results_amt[\"judgments\"], pre_processed_results_cf[\"judgments\"]])\n",
    "\n",
    "pre_processed_results = dict({\n",
    "    \"units\": units,\n",
    "    \"workers\": workers,\n",
    "    \"annotations\": annotations,\n",
    "    # \"jobs\": jobs,\n",
    "    \"judgments\": judgments\n",
    "})\n"
   ]
  },
  {
   "cell_type": "markdown",
   "metadata": {},
   "source": [
    "# Run CrowdTruth metrics"
   ]
  },
  {
   "cell_type": "code",
   "execution_count": 7,
   "metadata": {
    "collapsed": false
   },
   "outputs": [
    {
     "name": "stderr",
     "output_type": "stream",
     "text": [
      "INFO:root:1 iterations; max d= 1.0 ; wqs d= 0.607584589397; sqs d= 0.422460365045; rqs d= 0.454229636105\n",
      "INFO:root:2 iterations; max d= 0.295776496159 ; wqs d= 0.0872371111618; sqs d= 0.040032064671; rqs d= 0.0810016563871\n",
      "INFO:root:3 iterations; max d= 0.0568587830848 ; wqs d= 0.007116737541; sqs d= 0.00454941053537; rqs d= 0.00608209241058\n",
      "INFO:root:4 iterations; max d= 0.0251943758598 ; wqs d= 0.00200821171388; sqs d= 0.00194049701459; rqs d= 0.00248822975036\n",
      "INFO:root:5 iterations; max d= 0.00768981297441 ; wqs d= 0.000526066484498; sqs d= 0.000252662814321; rqs d= 0.000287271459532\n",
      "INFO:root:6 iterations; max d= 0.00314015906254 ; wqs d= 0.000150305306915; sqs d= 0.000151261924074; rqs d= 0.000182876560432\n",
      "INFO:root:7 iterations; max d= 0.00107596108603 ; wqs d= 5.69385823156e-05; sqs d= 1.82250242849e-05; rqs d= 1.95816611398e-05\n",
      "INFO:root:8 iterations; max d= 0.000431071034489 ; wqs d= 1.59331012123e-05; sqs d= 1.58671975716e-05; rqs d= 1.76780881241e-05\n"
     ]
    }
   ],
   "source": [
    "logger = logging.getLogger()\n",
    "logger.setLevel(logging.DEBUG)\n",
    "\n",
    "processed_results = crowdtruth.run(pre_processed_results, config_cf)"
   ]
  },
  {
   "cell_type": "markdown",
   "metadata": {},
   "source": [
    "# Visualize results"
   ]
  },
  {
   "cell_type": "code",
   "execution_count": 8,
   "metadata": {
    "collapsed": false
   },
   "outputs": [
    {
     "data": {
      "text/plain": [
       "<matplotlib.text.Text at 0x7fdc886bf090>"
      ]
     },
     "execution_count": 8,
     "metadata": {},
     "output_type": "execute_result"
    },
    {
     "data": {
      "image/png": "[encoded data removed]",
      "text/plain": [
       "<matplotlib.figure.Figure at 0x7fdc8a953950>"
      ]
     },
     "metadata": {},
     "output_type": "display_data"
    }
   ],
   "source": [
    "import matplotlib.pyplot as plt\n",
    "%matplotlib inline\n",
    "\n",
    "plt.hist(processed_results[\"units\"][\"uqs\"])\n",
    "plt.xlabel(\"SQS\")\n",
    "plt.ylabel(\"Sentences\")"
   ]
  },
  {
   "cell_type": "code",
   "execution_count": 9,
   "metadata": {
    "collapsed": false
   },
   "outputs": [
    {
     "data": {
      "text/plain": [
       "<matplotlib.text.Text at 0x7fdc885e5610>"
      ]
     },
     "execution_count": 9,
     "metadata": {},
     "output_type": "execute_result"
    },
    {
     "data": {
      "image/png": "[encoded data removed]",
      "text/plain": [
       "<matplotlib.figure.Figure at 0x7fdc886744d0>"
      ]
     },
     "metadata": {},
     "output_type": "display_data"
    }
   ],
   "source": [
    "plt.hist(processed_results[\"workers\"][\"wqs\"])\n",
    "plt.xlabel(\"WQS\")\n",
    "plt.ylabel(\"Workers\")"
   ]
  },
  {
   "cell_type": "code",
   "execution_count": 10,
   "metadata": {
    "collapsed": false
   },
   "outputs": [
    {
     "data": {
      "text/plain": [
       "<matplotlib.text.Text at 0x7fdc885455d0>"
      ]
     },
     "execution_count": 10,
     "metadata": {},
     "output_type": "execute_result"
    },
    {
     "data": {
      "image/png": "[encoded data removed]",
      "text/plain": [
       "<matplotlib.figure.Figure at 0x7fdc88527ad0>"
      ]
     },
     "metadata": {},
     "output_type": "display_data"
    }
   ],
   "source": [
    "plt.hist(processed_results[\"annotations\"][\"aqs\"])\n",
    "plt.xlabel(\"RQS\")\n",
    "plt.ylabel(\"Relations\")"
   ]
  },
  {
   "cell_type": "code",
   "execution_count": 11,
   "metadata": {
    "collapsed": false
   },
   "outputs": [
    {
     "data": {
      "text/plain": [
       "none                              0.643012\n",
       "org:alternate_names               0.751063\n",
       "org:place_of_headquarters         0.523684\n",
       "org:subsidiaries                  0.563456\n",
       "per:cause_of_death                0.640256\n",
       "per:charges                       0.754334\n",
       "per:children                      0.826448\n",
       "per:employee_or_member_of         0.433378\n",
       "per:founded_org                   0.602681\n",
       "per:origin                        0.320858\n",
       "per:place_of_birth                0.736751\n",
       "per:place_of_death                0.633270\n",
       "per:places_of_residence           0.441301\n",
       "per:schools_attended              0.593899\n",
       "per:spouse                        0.812712\n",
       "per:title                         0.600642\n",
       "per:top_member_employee_of_org    0.716412\n",
       "Name: aqs, dtype: float64"
      ]
     },
     "execution_count": 11,
     "metadata": {},
     "output_type": "execute_result"
    }
   ],
   "source": [
    "processed_results[\"annotations\"][\"aqs\"]"
   ]
  },
  {
   "cell_type": "markdown",
   "metadata": {},
   "source": [
    "# Save results"
   ]
  },
  {
   "cell_type": "code",
   "execution_count": 12,
   "metadata": {
    "collapsed": false
   },
   "outputs": [],
   "source": [
    "import operator\n",
    "\n",
    "dlist = []\n",
    "max_frame = []\n",
    "max_fss = []\n",
    "for idx in processed_results[\"units\"].index:\n",
    "    if idx != \"unit_annotation_score\":\n",
    "        aux_dict = { k:v for k, v in processed_results[\"units\"][\"unit_annotation_score\"][idx].iteritems() if v }\n",
    "        dlist.append(aux_dict)\n",
    "        max_frame.append(max(aux_dict.iteritems(), key=operator.itemgetter(1))[0])\n",
    "        max_fss.append(max(aux_dict.values()))\n",
    "\n",
    "processed_results[\"units\"][\"SRS\"] = pd.Series(dlist, index=processed_results[\"units\"].index)\n",
    "processed_results[\"units\"][\"max_rel\"] = pd.Series(max_frame, index=processed_results[\"units\"].index)\n",
    "processed_results[\"units\"][\"max_srs\"] = pd.Series(max_fss, index=processed_results[\"units\"].index)\n",
    "\n",
    "for rel in relations:\n",
    "    processed_results[\"units\"][rel] = 0.0\n",
    "\n",
    "for idx in processed_results[\"units\"].index:\n",
    "    for rel in relations:\n",
    "        if rel in processed_results[\"units\"][\"SRS\"][idx].keys():\n",
    "            processed_results[\"units\"].at[idx, rel] = max(0.0, processed_results[\"units\"][\"SRS\"][idx][rel])\n",
    "\n",
    "processed_results[\"units\"].to_csv(\"data/output/aggregated_sentences.csv\")\n",
    "processed_results[\"workers\"].to_csv(\"data/output/aggregated_workers.csv\")"
   ]
  },
  {
   "cell_type": "code",
   "execution_count": 13,
   "metadata": {
    "collapsed": false
   },
   "outputs": [],
   "source": [
    "relations = list(pre_processed_results[\"annotations\"].index)\n",
    "for rel in relations:\n",
    "    pre_processed_results[\"judgments\"][rel] = 0.0\n",
    "for idx in pre_processed_results[\"judgments\"].index:\n",
    "    for rel in relations:\n",
    "        if rel in pre_processed_results[\"judgments\"][\"output.rellist\"][idx].keys():\n",
    "            pre_processed_results[\"judgments\"].at[idx, rel] = max(\n",
    "                0.0, pre_processed_results[\"judgments\"][\"output.rellist\"][idx][rel])\n",
    "\n",
    "pre_processed_results[\"judgments\"].to_csv(\"data/output/worker_judgments.csv\")"
   ]
  },
  {
   "cell_type": "code",
   "execution_count": null,
   "metadata": {
    "collapsed": true
   },
   "outputs": [],
   "source": []
  }
 ],
 "metadata": {
  "anaconda-cloud": {},
  "kernelspec": {
   "display_name": "Python [default]",
   "language": "python",
   "name": "python2"
  },
  "language_info": {
   "codemirror_mode": {
    "name": "ipython",
    "version": 2
   },
   "file_extension": ".py",
   "mimetype": "text/x-python",
   "name": "python",
   "nbconvert_exporter": "python",
   "pygments_lexer": "ipython2",
   "version": "2.7.13"
  }
 },
 "nbformat": 4,
 "nbformat_minor": 2
}
